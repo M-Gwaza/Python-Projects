{
 "cells": [
  {
   "cell_type": "markdown",
   "id": "5d73e523",
   "metadata": {},
   "source": [
    "# Webscraping : IMDb Top 250 Movies"
   ]
  },
  {
   "cell_type": "markdown",
   "id": "d29500f2",
   "metadata": {},
   "source": [
    "This is a project that mainly showcases how Python Libraries are used to webscrape static websites to create a dataframe that can be saved as well as perform other operations like sentimental analysis"
   ]
  },
  {
   "cell_type": "markdown",
   "id": "11ebd4b2",
   "metadata": {},
   "source": [
    "The website that was chosen is **IMDb** with a webpage having a table with **Top 250 Movies ordered in accordance to Rating**"
   ]
  },
  {
   "cell_type": "markdown",
   "id": "d2c25fd9",
   "metadata": {},
   "source": [
    "https://www.imdb.com/chart/top?pf_rd_m=A2FGELUUNOQJNL&pf_rd_p=470df400-70d9-4f35-bb05-8646a1195842&pf_rd_r=6ABM4MGKKEFMTW15T5CY&pf_rd_s=right-4&pf_rd_t=15506&pf_rd_i=moviemeter&ref_=chtmvm_ql_3')\n"
   ]
  },
  {
   "cell_type": "markdown",
   "id": "977c15f3",
   "metadata": {},
   "source": [
    "## 1. Tabular and Tidy Data"
   ]
  },
  {
   "cell_type": "markdown",
   "id": "cb360050",
   "metadata": {},
   "source": [
    "#### 1.1. Importing Libraries\n",
    "\n",
    "    Pandas and Matplotlib       -   dataframe manipulation and visualization\n",
    "    BeautifulSoup and Requests  -   reading html syntax and webscraping"
   ]
  },
  {
   "cell_type": "code",
   "execution_count": 1,
   "id": "1f89ecb0",
   "metadata": {},
   "outputs": [],
   "source": [
    "from bs4 import BeautifulSoup\n",
    "import requests\n",
    "import pandas as pd\n",
    "import matplotlib.pyplot as plt"
   ]
  },
  {
   "cell_type": "markdown",
   "id": "167f6a92",
   "metadata": {},
   "source": [
    "#### 2.1 Checking URL \n"
   ]
  },
  {
   "cell_type": "code",
   "execution_count": 2,
   "id": "38980f7f",
   "metadata": {},
   "outputs": [],
   "source": [
    "try:\n",
    "    source = requests.get('https://www.imdb.com/chart/top?pf_rd_m=A2FGELUUNOQJNL&pf_rd_p=470df400-70d9-4f35-bb05-8646a1195842&pf_rd_r=6ABM4MGKKEFMTW15T5CY&pf_rd_s=right-4&pf_rd_t=15506&pf_rd_i=moviemeter&ref_=chtmvm_ql_3')\n",
    "\n",
    "#checking the URL to capture error\n",
    "\n",
    "    source.raise_for_status\n",
    "    \n",
    "except Exception as e:\n",
    "    print(e)\n",
    "    "
   ]
  },
  {
   "cell_type": "markdown",
   "id": "5addf963",
   "metadata": {},
   "source": [
    "#### 3.1 Getting the URL and parsing it using HTML"
   ]
  },
  {
   "cell_type": "code",
   "execution_count": 3,
   "id": "5f40cfc9",
   "metadata": {},
   "outputs": [],
   "source": [
    "source = requests.get('https://www.imdb.com/chart/top?pf_rd_m=A2FGELUUNOQJNL&pf_rd_p=470df400-70d9-4f35-bb05-8646a1195842&pf_rd_r=6ABM4MGKKEFMTW15T5CY&pf_rd_s=right-4&pf_rd_t=15506&pf_rd_i=moviemeter&ref_=chtmvm_ql_3')\n",
    "\n",
    "    \n",
    "#Getting the URL and parsing it using HTML\n",
    "soup = BeautifulSoup(source.text, 'html.parser')"
   ]
  },
  {
   "cell_type": "markdown",
   "id": "705b1c87",
   "metadata": {},
   "source": [
    "#### 4.1 Finding the table with the movies"
   ]
  },
  {
   "cell_type": "code",
   "execution_count": 4,
   "id": "76b585dd",
   "metadata": {},
   "outputs": [],
   "source": [
    "movies = soup.find('tbody', class_='lister-list').find_all('tr')\n",
    "\n",
    "#We are getting the whole table content"
   ]
  },
  {
   "cell_type": "markdown",
   "id": "0acd3a50",
   "metadata": {},
   "source": [
    "#### 5.1 Time to narrow down"
   ]
  },
  {
   "cell_type": "code",
   "execution_count": 5,
   "id": "c6d41455",
   "metadata": {},
   "outputs": [
    {
     "name": "stdout",
     "output_type": "stream",
     "text": [
      "250\n"
     ]
    }
   ],
   "source": [
    "movies = soup.find('tbody', class_='lister-list').find_all('tr')\n",
    "print(len(movies))"
   ]
  },
  {
   "cell_type": "markdown",
   "id": "fae9442c",
   "metadata": {},
   "source": [
    "The number of rows present in the table is **250**.\n",
    "\n",
    "#### 5.1.1 Getting the first movie:"
   ]
  },
  {
   "cell_type": "code",
   "execution_count": 6,
   "id": "6e0f9563",
   "metadata": {
    "scrolled": true
   },
   "outputs": [],
   "source": [
    "for movie in movies:\n",
    "        movie\n",
    "        break"
   ]
  },
  {
   "cell_type": "markdown",
   "id": "155a180e",
   "metadata": {},
   "source": [
    " Narrowing down"
   ]
  },
  {
   "cell_type": "code",
   "execution_count": 7,
   "id": "f8ae56d7",
   "metadata": {},
   "outputs": [
    {
     "name": "stdout",
     "output_type": "stream",
     "text": [
      "<a href=\"/title/tt0111161/\" title=\"Frank Darabont (dir.), Tim Robbins, Morgan Freeman\">The Shawshank Redemption</a>\n"
     ]
    }
   ],
   "source": [
    "for movie in movies:\n",
    "    name = movie.find('td', class_='titleColumn').a\n",
    "    \n",
    "    print(name)\n",
    "    break"
   ]
  },
  {
   "cell_type": "markdown",
   "id": "e94f1b85",
   "metadata": {},
   "source": [
    "Finally after filtering out all the html code, the first movie is:"
   ]
  },
  {
   "cell_type": "code",
   "execution_count": 8,
   "id": "aa55a516",
   "metadata": {},
   "outputs": [
    {
     "name": "stdout",
     "output_type": "stream",
     "text": [
      "The Shawshank Redemption\n"
     ]
    }
   ],
   "source": [
    "for movie in movies:\n",
    "    name = movie.find('td', class_='titleColumn').a.text\n",
    "    \n",
    "    print(name)\n",
    "    break"
   ]
  },
  {
   "cell_type": "markdown",
   "id": "1f425380",
   "metadata": {},
   "source": [
    "#### 5.1.2 Getting the rank"
   ]
  },
  {
   "cell_type": "markdown",
   "id": "bf6c83ac",
   "metadata": {},
   "source": [
    "5.1.2.1 Extracting the unclean data"
   ]
  },
  {
   "cell_type": "code",
   "execution_count": 9,
   "id": "aa5072f6",
   "metadata": {},
   "outputs": [
    {
     "name": "stdout",
     "output_type": "stream",
     "text": [
      "\n",
      "      1.\n",
      "      The Shawshank Redemption\n",
      "(1994)\n",
      "\n"
     ]
    }
   ],
   "source": [
    "for movie in movies:\n",
    "    name = movie.find('td', class_='titleColumn').a.text\n",
    "    rank = movie.find('td', class_='titleColumn').text\n",
    "    \n",
    "    print(rank)\n",
    "    break"
   ]
  },
  {
   "cell_type": "markdown",
   "id": "2933a82b",
   "metadata": {},
   "source": [
    "5.1.2.2 Putting the data in the right format to extract it as a list"
   ]
  },
  {
   "cell_type": "code",
   "execution_count": 10,
   "id": "093562bd",
   "metadata": {},
   "outputs": [
    {
     "name": "stdout",
     "output_type": "stream",
     "text": [
      "1.The Shawshank Redemption(1994)\n"
     ]
    }
   ],
   "source": [
    "for movie in movies:\n",
    "    name = movie.find('td', class_='titleColumn').a.text\n",
    "    rank = movie.find('td', class_='titleColumn').get_text(strip=True)\n",
    "    \n",
    "    print(rank)\n",
    "    break"
   ]
  },
  {
   "cell_type": "markdown",
   "id": "13333f08",
   "metadata": {},
   "source": [
    "5.1.2.3 Splitting it to create the list with 2 items"
   ]
  },
  {
   "cell_type": "code",
   "execution_count": 11,
   "id": "664a02d1",
   "metadata": {},
   "outputs": [
    {
     "name": "stdout",
     "output_type": "stream",
     "text": [
      "['1', 'The Shawshank Redemption(1994)']\n"
     ]
    }
   ],
   "source": [
    "for movie in movies:\n",
    "    name = movie.find('td', class_='titleColumn').a.text\n",
    "    rank = movie.find('td', class_='titleColumn').get_text(strip=True).split('.')\n",
    "    \n",
    "    print(rank)\n",
    "    break"
   ]
  },
  {
   "cell_type": "markdown",
   "id": "7c6a03e3",
   "metadata": {},
   "source": [
    "5.1.2.4 Finally getting the rank"
   ]
  },
  {
   "cell_type": "code",
   "execution_count": 12,
   "id": "63916a7d",
   "metadata": {},
   "outputs": [
    {
     "name": "stdout",
     "output_type": "stream",
     "text": [
      "1\n"
     ]
    }
   ],
   "source": [
    "for movie in movies:\n",
    "    name = movie.find('td', class_='titleColumn').a.text\n",
    "    rank = movie.find('td', class_='titleColumn').get_text(strip=True).split('.')[0]\n",
    "    \n",
    "    print(rank)\n",
    "    break"
   ]
  },
  {
   "cell_type": "markdown",
   "id": "7b5d2551",
   "metadata": {},
   "source": [
    "#### 5.1.3 Getting the Year"
   ]
  },
  {
   "cell_type": "code",
   "execution_count": 13,
   "id": "2767205c",
   "metadata": {},
   "outputs": [
    {
     "name": "stdout",
     "output_type": "stream",
     "text": [
      "1994\n"
     ]
    }
   ],
   "source": [
    "for movie in movies:\n",
    "    name = movie.find('td', class_='titleColumn').a.text\n",
    "    rank = movie.find('td', class_='titleColumn').get_text(strip=True).split('.')[0]\n",
    "    year = movie.find('td', class_='titleColumn').span.text.strip('()')\n",
    "    \n",
    "    \n",
    "    print(year)\n",
    "    break"
   ]
  },
  {
   "cell_type": "markdown",
   "id": "993010b6",
   "metadata": {},
   "source": [
    "#### 5.1.4 Getting the rating"
   ]
  },
  {
   "cell_type": "code",
   "execution_count": 14,
   "id": "42110dcb",
   "metadata": {},
   "outputs": [
    {
     "name": "stdout",
     "output_type": "stream",
     "text": [
      "9.2\n"
     ]
    }
   ],
   "source": [
    "for movie in movies:\n",
    "    name = movie.find('td', class_='titleColumn').a.text\n",
    "    rank = movie.find('td', class_='titleColumn').get_text(strip=True).split('.')[0]\n",
    "    year = movie.find('td', class_='titleColumn').span.text.strip('()')\n",
    "    rating = movie.find('td', class_='ratingColumn imdbRating').strong.text\n",
    "    \n",
    "    print(rating)\n",
    "    break"
   ]
  },
  {
   "cell_type": "markdown",
   "id": "5b7da5c7",
   "metadata": {},
   "source": [
    "#### 5.1.5 Finally, printing them all together ( name, rank, year and rating)"
   ]
  },
  {
   "cell_type": "code",
   "execution_count": 15,
   "id": "ca81d02b",
   "metadata": {},
   "outputs": [
    {
     "name": "stdout",
     "output_type": "stream",
     "text": [
      "The Shawshank Redemption 1 1994 9.2\n"
     ]
    }
   ],
   "source": [
    "for movie in movies:\n",
    "    name = movie.find('td', class_='titleColumn').a.text\n",
    "    rank = movie.find('td', class_='titleColumn').get_text(strip=True).split('.')[0]\n",
    "    year = movie.find('td', class_='titleColumn').span.text.strip('()')\n",
    "    rating = movie.find('td', class_='ratingColumn imdbRating').strong.text\n",
    "    \n",
    "    t = [name, rank, year, rating]\n",
    "    print(name, rank, year, rating)\n",
    "    break\n",
    "    "
   ]
  },
  {
   "cell_type": "markdown",
   "id": "0b37926f",
   "metadata": {},
   "source": [
    "#### 5.2 Creating a list to get the items"
   ]
  },
  {
   "cell_type": "code",
   "execution_count": 16,
   "id": "52c30bac",
   "metadata": {
    "scrolled": false
   },
   "outputs": [
    {
     "data": {
      "text/plain": [
       "['The Shawshank Redemption', '1994', '1', '9.2']"
      ]
     },
     "execution_count": 16,
     "metadata": {},
     "output_type": "execute_result"
    }
   ],
   "source": [
    "movie_list = []\n",
    "\n",
    "for movie in movies:\n",
    "    name = movie.find('td', class_='titleColumn').a.text\n",
    "    rank = movie.find('td', class_='titleColumn').get_text(strip=True).split('.')[0]\n",
    "    year = movie.find('td', class_='titleColumn').span.text.strip('()')\n",
    "    rating = movie.find('td', class_='ratingColumn imdbRating').strong.text\n",
    "    \n",
    "    movie_list.append([name, year, rank, rating])\n",
    "\n",
    "movie_list[0]\n"
   ]
  },
  {
   "cell_type": "markdown",
   "id": "0aecd4e4",
   "metadata": {},
   "source": [
    "## 2. Data Wrangling with Pandas and Exploratory Data Analysis (EDA)"
   ]
  },
  {
   "cell_type": "markdown",
   "id": "5ba94748",
   "metadata": {},
   "source": [
    "#### 2.1 Creating a dataframe using Pandas"
   ]
  },
  {
   "cell_type": "code",
   "execution_count": 17,
   "id": "8c6e42ec",
   "metadata": {},
   "outputs": [],
   "source": [
    "movies_table = pd.DataFrame(movie_list, columns= ['Name', 'Year', 'Rank', 'Rating'])"
   ]
  },
  {
   "cell_type": "markdown",
   "id": "25c16d18",
   "metadata": {},
   "source": [
    "Viewing the dataframe named movies_table"
   ]
  },
  {
   "cell_type": "code",
   "execution_count": 18,
   "id": "263882ea",
   "metadata": {},
   "outputs": [
    {
     "data": {
      "text/html": [
       "<div>\n",
       "<style scoped>\n",
       "    .dataframe tbody tr th:only-of-type {\n",
       "        vertical-align: middle;\n",
       "    }\n",
       "\n",
       "    .dataframe tbody tr th {\n",
       "        vertical-align: top;\n",
       "    }\n",
       "\n",
       "    .dataframe thead th {\n",
       "        text-align: right;\n",
       "    }\n",
       "</style>\n",
       "<table border=\"1\" class=\"dataframe\">\n",
       "  <thead>\n",
       "    <tr style=\"text-align: right;\">\n",
       "      <th></th>\n",
       "      <th>Name</th>\n",
       "      <th>Year</th>\n",
       "      <th>Rank</th>\n",
       "      <th>Rating</th>\n",
       "    </tr>\n",
       "  </thead>\n",
       "  <tbody>\n",
       "    <tr>\n",
       "      <th>0</th>\n",
       "      <td>The Shawshank Redemption</td>\n",
       "      <td>1994</td>\n",
       "      <td>1</td>\n",
       "      <td>9.2</td>\n",
       "    </tr>\n",
       "    <tr>\n",
       "      <th>1</th>\n",
       "      <td>The Godfather</td>\n",
       "      <td>1972</td>\n",
       "      <td>2</td>\n",
       "      <td>9.2</td>\n",
       "    </tr>\n",
       "    <tr>\n",
       "      <th>2</th>\n",
       "      <td>The Dark Knight</td>\n",
       "      <td>2008</td>\n",
       "      <td>3</td>\n",
       "      <td>9.0</td>\n",
       "    </tr>\n",
       "    <tr>\n",
       "      <th>3</th>\n",
       "      <td>The Godfather Part II</td>\n",
       "      <td>1974</td>\n",
       "      <td>4</td>\n",
       "      <td>9.0</td>\n",
       "    </tr>\n",
       "    <tr>\n",
       "      <th>4</th>\n",
       "      <td>12 Angry Men</td>\n",
       "      <td>1957</td>\n",
       "      <td>5</td>\n",
       "      <td>9.0</td>\n",
       "    </tr>\n",
       "  </tbody>\n",
       "</table>\n",
       "</div>"
      ],
      "text/plain": [
       "                       Name  Year Rank Rating\n",
       "0  The Shawshank Redemption  1994    1    9.2\n",
       "1             The Godfather  1972    2    9.2\n",
       "2           The Dark Knight  2008    3    9.0\n",
       "3     The Godfather Part II  1974    4    9.0\n",
       "4              12 Angry Men  1957    5    9.0"
      ]
     },
     "execution_count": 18,
     "metadata": {},
     "output_type": "execute_result"
    }
   ],
   "source": [
    "movies_table.head(5)"
   ]
  },
  {
   "cell_type": "markdown",
   "id": "43f72468",
   "metadata": {},
   "source": [
    "This part is where the data was summarized using its main characteristics using descriptive statistics and data visualization"
   ]
  },
  {
   "cell_type": "markdown",
   "id": "5ca5d6a8",
   "metadata": {},
   "source": [
    "#### 2.2 Exploring the dataset using head, info, shape and describe"
   ]
  },
  {
   "cell_type": "code",
   "execution_count": 19,
   "id": "70a7f47a",
   "metadata": {},
   "outputs": [
    {
     "name": "stdout",
     "output_type": "stream",
     "text": [
      "-------------------------------------------------------------------\n",
      "                       Name  Year Rank Rating\n",
      "0  The Shawshank Redemption  1994    1    9.2\n",
      "1             The Godfather  1972    2    9.2\n",
      "2           The Dark Knight  2008    3    9.0\n",
      "3     The Godfather Part II  1974    4    9.0\n",
      "4              12 Angry Men  1957    5    9.0\n",
      "-------------------------------------------------------------------\n",
      "<class 'pandas.core.frame.DataFrame'>\n",
      "RangeIndex: 250 entries, 0 to 249\n",
      "Data columns (total 4 columns):\n",
      " #   Column  Non-Null Count  Dtype \n",
      "---  ------  --------------  ----- \n",
      " 0   Name    250 non-null    object\n",
      " 1   Year    250 non-null    object\n",
      " 2   Rank    250 non-null    object\n",
      " 3   Rating  250 non-null    object\n",
      "dtypes: object(4)\n",
      "memory usage: 7.9+ KB\n",
      "None\n",
      "-------------------------------------------------------------------\n",
      "(250, 4)\n",
      "-------------------------------------------------------------------\n",
      "                            Name  Year Rank Rating\n",
      "count                        250   250  250    250\n",
      "unique                       250    86  250     12\n",
      "top     The Shawshank Redemption  1995    1    8.1\n",
      "freq                           1     8    1     66\n"
     ]
    }
   ],
   "source": [
    "print('-------------------------------------------------------------------')\n",
    "print(movies_table.head())\n",
    "print('-------------------------------------------------------------------')\n",
    "print(movies_table.info())\n",
    "print('-------------------------------------------------------------------')\n",
    "print(movies_table.shape)\n",
    "print('-------------------------------------------------------------------')\n",
    "print(movies_table.describe())"
   ]
  },
  {
   "cell_type": "markdown",
   "id": "fa0e296b",
   "metadata": {},
   "source": [
    "From the results, we can see that the columns **Year, Rank and Rating** are in the wrong format\n",
    "\n",
    "#### 2.2.1 Putting them in the right format using astype function with type **int**"
   ]
  },
  {
   "cell_type": "code",
   "execution_count": 20,
   "id": "5ee8bec3",
   "metadata": {},
   "outputs": [],
   "source": [
    "movies_table['Rank'] = movies_table['Rank'].astype(int)\n",
    "movies_table['Rating'] = movies_table['Rating'].astype(float)\n",
    "movies_table['Year'] = movies_table['Year'].astype(int)"
   ]
  },
  {
   "cell_type": "markdown",
   "id": "8812806f",
   "metadata": {},
   "source": [
    "#### 2.2.2 Viewing the dataset now:"
   ]
  },
  {
   "cell_type": "code",
   "execution_count": 21,
   "id": "dca6c439",
   "metadata": {},
   "outputs": [
    {
     "name": "stdout",
     "output_type": "stream",
     "text": [
      "<class 'pandas.core.frame.DataFrame'>\n",
      "RangeIndex: 250 entries, 0 to 249\n",
      "Data columns (total 4 columns):\n",
      " #   Column  Non-Null Count  Dtype  \n",
      "---  ------  --------------  -----  \n",
      " 0   Name    250 non-null    object \n",
      " 1   Year    250 non-null    int32  \n",
      " 2   Rank    250 non-null    int32  \n",
      " 3   Rating  250 non-null    float64\n",
      "dtypes: float64(1), int32(2), object(1)\n",
      "memory usage: 6.0+ KB\n"
     ]
    }
   ],
   "source": [
    "movies_table.info()"
   ]
  },
  {
   "cell_type": "markdown",
   "id": "f343aca6",
   "metadata": {},
   "source": [
    "#### 2.2.3 Saving the dataset to a csv file"
   ]
  },
  {
   "cell_type": "code",
   "execution_count": 22,
   "id": "0b527243",
   "metadata": {},
   "outputs": [],
   "source": [
    "movies_table.to_csv('C:/Users/moses.gwaza/Documents/a.csv', index=False)"
   ]
  },
  {
   "cell_type": "markdown",
   "id": "03a567b6",
   "metadata": {},
   "source": [
    "### 3. Data visualization\n",
    "\n",
    "This is the last section that was done to try to get certain insights from the dataframe created.\n",
    "\n",
    "Questions were formulated to try to understand the data and these include:\n",
    "   1.  Which top 15 rated movies have the highest Rating?\n",
    "   2.  Which Ratings are common in the dataset?\n",
    "   3. Which time period has the most top rated movies"
   ]
  },
  {
   "cell_type": "markdown",
   "id": "995baadb",
   "metadata": {},
   "source": [
    "#### 3.1 Which top 15 rated movies have the highest Rating?"
   ]
  },
  {
   "cell_type": "markdown",
   "id": "b418ce59",
   "metadata": {},
   "source": [
    "Inorder to achieve this, the easiest way is to simply sort the dataframe using the sort values function in descending order of Rating"
   ]
  },
  {
   "cell_type": "code",
   "execution_count": 23,
   "id": "20c55b49",
   "metadata": {},
   "outputs": [
    {
     "data": {
      "text/html": [
       "<div>\n",
       "<style scoped>\n",
       "    .dataframe tbody tr th:only-of-type {\n",
       "        vertical-align: middle;\n",
       "    }\n",
       "\n",
       "    .dataframe tbody tr th {\n",
       "        vertical-align: top;\n",
       "    }\n",
       "\n",
       "    .dataframe thead th {\n",
       "        text-align: right;\n",
       "    }\n",
       "</style>\n",
       "<table border=\"1\" class=\"dataframe\">\n",
       "  <thead>\n",
       "    <tr style=\"text-align: right;\">\n",
       "      <th></th>\n",
       "      <th>Name</th>\n",
       "      <th>Year</th>\n",
       "      <th>Rank</th>\n",
       "      <th>Rating</th>\n",
       "    </tr>\n",
       "  </thead>\n",
       "  <tbody>\n",
       "    <tr>\n",
       "      <th>0</th>\n",
       "      <td>The Shawshank Redemption</td>\n",
       "      <td>1994</td>\n",
       "      <td>1</td>\n",
       "      <td>9.2</td>\n",
       "    </tr>\n",
       "    <tr>\n",
       "      <th>1</th>\n",
       "      <td>The Godfather</td>\n",
       "      <td>1972</td>\n",
       "      <td>2</td>\n",
       "      <td>9.2</td>\n",
       "    </tr>\n",
       "    <tr>\n",
       "      <th>2</th>\n",
       "      <td>The Dark Knight</td>\n",
       "      <td>2008</td>\n",
       "      <td>3</td>\n",
       "      <td>9.0</td>\n",
       "    </tr>\n",
       "    <tr>\n",
       "      <th>3</th>\n",
       "      <td>The Godfather Part II</td>\n",
       "      <td>1974</td>\n",
       "      <td>4</td>\n",
       "      <td>9.0</td>\n",
       "    </tr>\n",
       "    <tr>\n",
       "      <th>4</th>\n",
       "      <td>12 Angry Men</td>\n",
       "      <td>1957</td>\n",
       "      <td>5</td>\n",
       "      <td>9.0</td>\n",
       "    </tr>\n",
       "    <tr>\n",
       "      <th>5</th>\n",
       "      <td>Schindler's List</td>\n",
       "      <td>1993</td>\n",
       "      <td>6</td>\n",
       "      <td>8.9</td>\n",
       "    </tr>\n",
       "    <tr>\n",
       "      <th>6</th>\n",
       "      <td>The Lord of the Rings: The Return of the King</td>\n",
       "      <td>2003</td>\n",
       "      <td>7</td>\n",
       "      <td>8.9</td>\n",
       "    </tr>\n",
       "    <tr>\n",
       "      <th>7</th>\n",
       "      <td>Pulp Fiction</td>\n",
       "      <td>1994</td>\n",
       "      <td>8</td>\n",
       "      <td>8.8</td>\n",
       "    </tr>\n",
       "    <tr>\n",
       "      <th>8</th>\n",
       "      <td>The Lord of the Rings: The Fellowship of the Ring</td>\n",
       "      <td>2001</td>\n",
       "      <td>9</td>\n",
       "      <td>8.8</td>\n",
       "    </tr>\n",
       "    <tr>\n",
       "      <th>9</th>\n",
       "      <td>Il buono, il brutto, il cattivo</td>\n",
       "      <td>1966</td>\n",
       "      <td>10</td>\n",
       "      <td>8.8</td>\n",
       "    </tr>\n",
       "    <tr>\n",
       "      <th>10</th>\n",
       "      <td>Forrest Gump</td>\n",
       "      <td>1994</td>\n",
       "      <td>11</td>\n",
       "      <td>8.8</td>\n",
       "    </tr>\n",
       "    <tr>\n",
       "      <th>14</th>\n",
       "      <td>The Empire Strikes Back</td>\n",
       "      <td>1980</td>\n",
       "      <td>15</td>\n",
       "      <td>8.7</td>\n",
       "    </tr>\n",
       "    <tr>\n",
       "      <th>16</th>\n",
       "      <td>Goodfellas</td>\n",
       "      <td>1990</td>\n",
       "      <td>17</td>\n",
       "      <td>8.7</td>\n",
       "    </tr>\n",
       "    <tr>\n",
       "      <th>15</th>\n",
       "      <td>The Matrix</td>\n",
       "      <td>1999</td>\n",
       "      <td>16</td>\n",
       "      <td>8.7</td>\n",
       "    </tr>\n",
       "    <tr>\n",
       "      <th>11</th>\n",
       "      <td>Fight Club</td>\n",
       "      <td>1999</td>\n",
       "      <td>12</td>\n",
       "      <td>8.7</td>\n",
       "    </tr>\n",
       "  </tbody>\n",
       "</table>\n",
       "</div>"
      ],
      "text/plain": [
       "                                                 Name  Year  Rank  Rating\n",
       "0                            The Shawshank Redemption  1994     1     9.2\n",
       "1                                       The Godfather  1972     2     9.2\n",
       "2                                     The Dark Knight  2008     3     9.0\n",
       "3                               The Godfather Part II  1974     4     9.0\n",
       "4                                        12 Angry Men  1957     5     9.0\n",
       "5                                    Schindler's List  1993     6     8.9\n",
       "6       The Lord of the Rings: The Return of the King  2003     7     8.9\n",
       "7                                        Pulp Fiction  1994     8     8.8\n",
       "8   The Lord of the Rings: The Fellowship of the Ring  2001     9     8.8\n",
       "9                     Il buono, il brutto, il cattivo  1966    10     8.8\n",
       "10                                       Forrest Gump  1994    11     8.8\n",
       "14                            The Empire Strikes Back  1980    15     8.7\n",
       "16                                         Goodfellas  1990    17     8.7\n",
       "15                                         The Matrix  1999    16     8.7\n",
       "11                                         Fight Club  1999    12     8.7"
      ]
     },
     "execution_count": 23,
     "metadata": {},
     "output_type": "execute_result"
    }
   ],
   "source": [
    "Sortedby_rating = movies_table.sort_values('Rating', ascending=False).head(15)\n",
    "Sortedby_rating"
   ]
  },
  {
   "cell_type": "markdown",
   "id": "06546096",
   "metadata": {},
   "source": [
    "And finally plot a horizontal bar using pandas:"
   ]
  },
  {
   "cell_type": "code",
   "execution_count": 24,
   "id": "c4ac4342",
   "metadata": {},
   "outputs": [
    {
     "data": {
      "image/png": "[encoded data removed]",
      "text/plain": [
       "<Figure size 1080x576 with 1 Axes>"
      ]
     },
     "metadata": {
      "needs_background": "light"
     },
     "output_type": "display_data"
    }
   ],
   "source": [
    "\n",
    "bar_presentation = (movies_table.head(15).\n",
    "    \n",
    "     plot.\n",
    "     barh(\n",
    "         x='Name',\n",
    "         y='Rating', \n",
    "         color='brown', \n",
    "         figsize=(15, 8), \n",
    "         title = 'Horizontal Bar Plot Showing Top 15 Rated Movies ')\n",
    "    )\n",
    "\n"
   ]
  },
  {
   "cell_type": "markdown",
   "id": "1e98bfdb",
   "metadata": {},
   "source": [
    "#### 3.2 Which time period has the most top rated movies"
   ]
  },
  {
   "cell_type": "markdown",
   "id": "35ee0b2d",
   "metadata": {},
   "source": [
    "3.2.1 Simply take a look at the **Year** column first to identify the overall time range"
   ]
  },
  {
   "cell_type": "code",
   "execution_count": 25,
   "id": "c276505e",
   "metadata": {},
   "outputs": [
    {
     "data": {
      "text/plain": [
       "0      1994\n",
       "1      1972\n",
       "2      2008\n",
       "3      1974\n",
       "4      1957\n",
       "       ... \n",
       "245    1975\n",
       "246    2011\n",
       "247    1982\n",
       "248    1992\n",
       "249    1999\n",
       "Name: Year, Length: 250, dtype: int32"
      ]
     },
     "execution_count": 25,
     "metadata": {},
     "output_type": "execute_result"
    }
   ],
   "source": [
    "movies_table['Year']"
   ]
  },
  {
   "cell_type": "markdown",
   "id": "f222992a",
   "metadata": {},
   "source": [
    "3.2.2 Create categorical data from continuous data - Year using bins"
   ]
  },
  {
   "cell_type": "code",
   "execution_count": 26,
   "id": "5320ce0c",
   "metadata": {},
   "outputs": [],
   "source": [
    "#Creating bins\n",
    "bins = [1950, 1960, 1970, 1980, 1990, 2000, 2010, 2020, 2030]\n",
    "labels = ['1950 - 1960', '1960-1970', '1970-1980', '1980-1990', '1990-2000', '2000-2010', '2010-2020', '2020-2030']"
   ]
  },
  {
   "cell_type": "markdown",
   "id": "e577cb6f",
   "metadata": {},
   "source": [
    "3.2.3 Adding a new calculated column named **Year_category** with the newly created categorical data"
   ]
  },
  {
   "cell_type": "code",
   "execution_count": 27,
   "id": "33856d91",
   "metadata": {},
   "outputs": [
    {
     "data": {
      "text/html": [
       "<div>\n",
       "<style scoped>\n",
       "    .dataframe tbody tr th:only-of-type {\n",
       "        vertical-align: middle;\n",
       "    }\n",
       "\n",
       "    .dataframe tbody tr th {\n",
       "        vertical-align: top;\n",
       "    }\n",
       "\n",
       "    .dataframe thead th {\n",
       "        text-align: right;\n",
       "    }\n",
       "</style>\n",
       "<table border=\"1\" class=\"dataframe\">\n",
       "  <thead>\n",
       "    <tr style=\"text-align: right;\">\n",
       "      <th></th>\n",
       "      <th>Name</th>\n",
       "      <th>Year</th>\n",
       "      <th>Rank</th>\n",
       "      <th>Rating</th>\n",
       "      <th>Year_category</th>\n",
       "    </tr>\n",
       "  </thead>\n",
       "  <tbody>\n",
       "    <tr>\n",
       "      <th>0</th>\n",
       "      <td>The Shawshank Redemption</td>\n",
       "      <td>1994</td>\n",
       "      <td>1</td>\n",
       "      <td>9.2</td>\n",
       "      <td>1990-2000</td>\n",
       "    </tr>\n",
       "    <tr>\n",
       "      <th>1</th>\n",
       "      <td>The Godfather</td>\n",
       "      <td>1972</td>\n",
       "      <td>2</td>\n",
       "      <td>9.2</td>\n",
       "      <td>1970-1980</td>\n",
       "    </tr>\n",
       "    <tr>\n",
       "      <th>2</th>\n",
       "      <td>The Dark Knight</td>\n",
       "      <td>2008</td>\n",
       "      <td>3</td>\n",
       "      <td>9.0</td>\n",
       "      <td>2000-2010</td>\n",
       "    </tr>\n",
       "    <tr>\n",
       "      <th>3</th>\n",
       "      <td>The Godfather Part II</td>\n",
       "      <td>1974</td>\n",
       "      <td>4</td>\n",
       "      <td>9.0</td>\n",
       "      <td>1970-1980</td>\n",
       "    </tr>\n",
       "    <tr>\n",
       "      <th>4</th>\n",
       "      <td>12 Angry Men</td>\n",
       "      <td>1957</td>\n",
       "      <td>5</td>\n",
       "      <td>9.0</td>\n",
       "      <td>1950 - 1960</td>\n",
       "    </tr>\n",
       "  </tbody>\n",
       "</table>\n",
       "</div>"
      ],
      "text/plain": [
       "                       Name  Year  Rank  Rating Year_category\n",
       "0  The Shawshank Redemption  1994     1     9.2     1990-2000\n",
       "1             The Godfather  1972     2     9.2     1970-1980\n",
       "2           The Dark Knight  2008     3     9.0     2000-2010\n",
       "3     The Godfather Part II  1974     4     9.0     1970-1980\n",
       "4              12 Angry Men  1957     5     9.0   1950 - 1960"
      ]
     },
     "execution_count": 27,
     "metadata": {},
     "output_type": "execute_result"
    }
   ],
   "source": [
    "movies_table['Year_category'] = pd.cut(movies_table['Year'], bins, labels = labels)\n",
    "movies_table.head()"
   ]
  },
  {
   "cell_type": "markdown",
   "id": "8b4d862f",
   "metadata": {},
   "source": [
    "3.2.4 Performing simply descriptive analysis of our calculated column, Year_category using *describe function*"
   ]
  },
  {
   "cell_type": "code",
   "execution_count": 28,
   "id": "fb5b380b",
   "metadata": {},
   "outputs": [
    {
     "data": {
      "text/plain": [
       "count           222\n",
       "unique            8\n",
       "top       2000-2010\n",
       "freq             48\n",
       "Name: Year_category, dtype: object"
      ]
     },
     "execution_count": 28,
     "metadata": {},
     "output_type": "execute_result"
    }
   ],
   "source": [
    "movies_table['Year_category'].describe()"
   ]
  },
  {
   "cell_type": "markdown",
   "id": "3bfc7bf8",
   "metadata": {},
   "source": [
    "3.2.5 Counting the number of items in a single category of  'Year_category'"
   ]
  },
  {
   "cell_type": "code",
   "execution_count": 29,
   "id": "598cd3c3",
   "metadata": {},
   "outputs": [
    {
     "data": {
      "text/plain": [
       "2000-2010      48\n",
       "1990-2000      45\n",
       "2010-2020      40\n",
       "1980-1990      24\n",
       "1970-1980      23\n",
       "1950 - 1960    22\n",
       "1960-1970      16\n",
       "2020-2030       4\n",
       "Name: Year_category, dtype: int64"
      ]
     },
     "execution_count": 29,
     "metadata": {},
     "output_type": "execute_result"
    }
   ],
   "source": [
    "count_items = movies_table['Year_category'].value_counts()\n",
    "count_items"
   ]
  },
  {
   "cell_type": "markdown",
   "id": "590877cd",
   "metadata": {},
   "source": [
    "3.2.6 Using a horizontal **bar plot** to represent the count"
   ]
  },
  {
   "cell_type": "code",
   "execution_count": 30,
   "id": "f3c706c1",
   "metadata": {},
   "outputs": [
    {
     "data": {
      "image/png": "[encoded data removed]",
      "text/plain": [
       "<Figure size 432x288 with 1 Axes>"
      ]
     },
     "metadata": {
      "needs_background": "light"
     },
     "output_type": "display_data"
    }
   ],
   "source": [
    "count_items.plot.barh(title = 'Years with the highest rated movies', color='orange');"
   ]
  },
  {
   "cell_type": "markdown",
   "id": "426dcc17",
   "metadata": {},
   "source": [
    "3.2.7 Using a piechart plot to represent the count"
   ]
  },
  {
   "cell_type": "code",
   "execution_count": 31,
   "id": "8b4719f0",
   "metadata": {},
   "outputs": [
    {
     "data": {
      "image/png": "[encoded data removed]",
      "text/plain": [
       "<Figure size 360x504 with 1 Axes>"
      ]
     },
     "metadata": {},
     "output_type": "display_data"
    }
   ],
   "source": [
    "movies_table['Year_category'].value_counts().plot.pie(title = 'Years with the highest rated movies', figsize=(5, 7));"
   ]
  },
  {
   "cell_type": "markdown",
   "id": "80b39231",
   "metadata": {},
   "source": [
    "#### 3.3 Which Ratings are common in the dataset?"
   ]
  },
  {
   "cell_type": "markdown",
   "id": "49cad1a1",
   "metadata": {},
   "source": [
    "3.3.1 Using a histogram plot to represent the distribution"
   ]
  },
  {
   "cell_type": "code",
   "execution_count": 32,
   "id": "74113ebf",
   "metadata": {},
   "outputs": [
    {
     "data": {
      "image/png": "[encoded data removed]",
      "text/plain": [
       "<Figure size 432x288 with 1 Axes>"
      ]
     },
     "metadata": {
      "needs_background": "light"
     },
     "output_type": "display_data"
    }
   ],
   "source": [
    "movies_table['Rating'].plot.hist();"
   ]
  },
  {
   "cell_type": "code",
   "execution_count": null,
   "id": "50041374",
   "metadata": {},
   "outputs": [],
   "source": []
  }
 ],
 "metadata": {
  "kernelspec": {
   "display_name": "Python 3 (ipykernel)",
   "language": "python",
   "name": "python3"
  },
  "language_info": {
   "codemirror_mode": {
    "name": "ipython",
    "version": 3
   },
   "file_extension": ".py",
   "mimetype": "text/x-python",
   "name": "python",
   "nbconvert_exporter": "python",
   "pygments_lexer": "ipython3",
   "version": "3.9.7"
  }
 },
 "nbformat": 4,
 "nbformat_minor": 5
}
